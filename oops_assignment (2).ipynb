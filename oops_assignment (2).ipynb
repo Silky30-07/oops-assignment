{
  "nbformat": 4,
  "nbformat_minor": 0,
  "metadata": {
    "colab": {
      "provenance": []
    },
    "kernelspec": {
      "name": "python3",
      "display_name": "Python 3"
    },
    "language_info": {
      "name": "python"
    }
  },
  "cells": [
    {
      "cell_type": "markdown",
      "source": [
        "# **theory question**"
      ],
      "metadata": {
        "id": "iOKx4oBsAW-I"
      }
    },
    {
      "cell_type": "markdown",
      "source": [
        "ques 1 : What is Object-Oriented Programming (OOP)?\n",
        "\n",
        "Object-Oriented Programming (OOP) is a programming paradigm that organizes software design around data, or objects, rather than functions and logic. The core idea is to model real-world entities and relationships using objects that have both attributes (data) and methods (functions) that operate on the data."
      ],
      "metadata": {
        "id": "B7rwpig8AW60"
      }
    },
    {
      "cell_type": "markdown",
      "source": [
        "ques 2 : What is a class in OOP ?\n",
        "\n",
        "In Object-Oriented Programming (OOP), a class is a blueprint or template for creating objects. It defines the attributes (data) and methods (functions) that the objects of the class will have. A class allows you to define common behaviors and characteristics that multiple objects can share.\n",
        "\n",
        "You can think of a class as a blueprint for building a house. The class defines the structure (like the rooms, doors, and windows), and each object created from that class is an individual house that shares the same structure but can have different attributes (like color or number of floors).\n"
      ],
      "metadata": {
        "id": "39cgIsIWAW4b"
      }
    },
    {
      "cell_type": "markdown",
      "source": [
        "ques 3 : What is an object in OOP ?\n",
        "\n",
        "In Object-Oriented Programming (OOP), an object is an instance of a class. It is a real-world entity that contains both data (attributes) and functions (methods) that operate on the data. An object is created based on the blueprint provided by the class. The data defines the state of the object, and the methods define its behavior.\n",
        "\n",
        "An object is a real-world entity created from a class, and it consists of attributes (state) and methods (behavior).\n",
        "Objects are instances of a class, and each object can have different states while sharing the same structure and behaviors.\n",
        "The use of objects helps promote modularity, reusability, and maintainability in OOP systems."
      ],
      "metadata": {
        "id": "tO29vd3AAW2J"
      }
    },
    {
      "cell_type": "markdown",
      "source": [
        "ques 4 :  What is the difference between abstraction and encapsulation?\n",
        "\n",
        "\n",
        "difference between Abstraction\tEncapsulation :\n",
        "\n",
        "Definition:\n",
        "\n",
        "abstraction :\tHiding the complex implementation details and showing only the necessary features.\n",
        "\n",
        "encapsulation: Bundling the data (attributes) and methods (functions) together and restricting access to the internal state.\n",
        "\n",
        "Purpose:\n",
        "\n",
        "abstraction :\tFocus on what an object does, not how it does it.\n",
        "\n",
        "encapsulation: \tProtect an object's internal state and provide controlled access to it.\n",
        "\n",
        "How:\n",
        "\n",
        "anstraction:\tAchieved through abstract classes, interfaces, and exposing only relevant methods.\n",
        "\n",
        "encapsulation : \tAchieved by using private variables and providing public getter/setter methods.\n",
        "\n",
        "\n",
        "Example:\n",
        "\n",
        "abstraction :\tA Car class that abstracts the details of how the car’s engine starts, focusing only on the start_engine() method.\n",
        "\n",
        "encapsulation: A BankAccount class that encapsulates the balance and only exposes methods to deposit, withdraw, and check balance.\n",
        "\n",
        "\n",
        "Visibility:\n",
        "\n",
        "abstraction:\tThe internal workings of an object are hidden, focusing on high-level functionality.\n",
        "\n",
        "encapsulation: The internal data (attributes) is hidden from outside access, controlling how it can be modified.\n",
        "\n"
      ],
      "metadata": {
        "id": "6k_lX4HKAWzX"
      }
    },
    {
      "cell_type": "markdown",
      "source": [
        "ques 5:  What are dunder methods in Python?\n",
        "\n",
        "Dunder methods (short for \"double underscore methods\") in Python are special methods that have a double underscore (__) before and after their name. These methods are also known as magic methods or special methods. They are predefined methods in Python that allow you to define behavior for fundamental operations like addition, subtraction, string representation, and more. These methods enable objects of a class to interact with built-in Python functions and operators."
      ],
      "metadata": {
        "id": "pDGJ8DSQAWws"
      }
    },
    {
      "cell_type": "markdown",
      "source": [
        "ques 6 Explain the concept of inheritance in OOP?\n",
        "\n",
        "Inheritance is a fundamental concept in Object-Oriented Programming (OOP) that allows a class (called the child or subclass) to inherit attributes and methods from another class (called the parent or superclass). It helps to establish a relationship between classes, enabling code reuse and the ability to create a more specialized class from a general one.\n",
        "\n",
        "Inheritance enables you to create a new class (child class) based on an existing class (parent class), inheriting its attributes and methods.\n",
        "It promotes code reuse and allows you to extend and customize the behavior of the parent class.\n",
        "Inheritance also supports the creation of more complex relationships between classes, such as multiple inheritance or multilevel inheritance."
      ],
      "metadata": {
        "id": "KAc_fbf-AWuB"
      }
    },
    {
      "cell_type": "markdown",
      "source": [
        "ques 7 What is polymorphism in OOP?\n",
        "\n",
        "Polymorphism is a core concept in Object-Oriented Programming (OOP) that allows objects of different classes to be treated as objects of a common superclass. The most important aspect of polymorphism is that it enables you to use a single interface to represent different underlying forms (or data types).\n",
        "\n",
        "The term polymorphism comes from the Greek words poly (\"many\") and morph (\"form\"), meaning \"many forms\". In OOP, polymorphism allows methods to have the same name but behave differently based on the object they are called on.\n",
        "\n",
        "Polymorphism allows objects of different classes to be treated as instances of a common superclass. It enables the use of a single interface for different data types, allowing for more flexible, reusable, and maintainable code. Polymorphism is typically achieved through method overriding (runtime polymorphism) and method overloading (compile-time polymorphism). In Python, polymorphism can also be implemented through abstract classes or interfaces."
      ],
      "metadata": {
        "id": "5OtBMlswAWo_"
      }
    },
    {
      "cell_type": "markdown",
      "source": [
        "ques 8 :  How is encapsulation achieved in Python ?\n",
        "\n",
        "Encapsulation is one of the fundamental concepts in Object-Oriented Programming (OOP). It refers to the bundling of data (attributes) and methods (functions) that operate on that data into a single unit or class, and restricting direct access to some of the object's components. This helps protect the object's internal state and ensures that it can only be modified through predefined methods.\n",
        "\n",
        "In Python, encapsulation is achieved using access modifiers (which control the visibility of attributes and methods) and by using the property function for controlled access to attributes."
      ],
      "metadata": {
        "id": "FpjY3ySQAWl9"
      }
    },
    {
      "cell_type": "markdown",
      "source": [
        "ques 9 What is a constructor in Python ?\n",
        "\n",
        "In Python, a constructor is a special method that is used to initialize a newly created object. When you create a new object from a class, the constructor is automatically called to set up the initial state of the object.\n",
        "\n",
        "Constructors allow you to set the initial state of an object when it's created, making sure that your object is ready to be used immediately after it's instantiated."
      ],
      "metadata": {
        "id": "X8B9xorEAWjV"
      }
    },
    {
      "cell_type": "markdown",
      "source": [
        "ques 10 What are class and static methods in Python ?\n",
        "\n",
        "In Python, both class methods and static methods are methods that belong to the class rather than the instance. However, they differ in how they are called and the type of data they work with.\n",
        "\n",
        "# **class method :  **\n",
        "\n",
        "A class method is a method that is bound to the class, not the instance. It can modify the class state that applies to all instances of the class. The key difference is that it takes a class reference (cls) as its first parameter, not an instance reference (self).\n",
        "\n",
        "# **static method : **\n",
        "\n",
        "A static method does not take self or cls as its first argument. It behaves like a regular function but belongs to the class's namespace. It cannot modify the class state or the instance state. It is used for utility functions that are related to the class but don't need access to the class or instance data."
      ],
      "metadata": {
        "id": "qyaoLaLgAWge"
      }
    },
    {
      "cell_type": "markdown",
      "source": [
        "ques 11  What is method overloading in Python ?\n",
        "\n",
        "In Python, method overloading is a concept where you define multiple methods with the same name but with different arguments (i.e., different signatures). However, unlike languages like Java or C++, Python does not support method overloading in the traditional sense. That means you cannot define multiple methods with the same name but different parameter types or numbers directly.\n",
        "\n",
        "\n",
        "Default arguments to handle different numbers of arguments.\n",
        "*args and **kwargs for variable-length arguments.\n",
        "\n",
        "Manual checks to handle different input types or numbers of arguments.\n",
        "\n",
        "So, while Python doesn't support method overloading in the classical sense, you can still achieve similar functionality using these techniques."
      ],
      "metadata": {
        "id": "pjgOEMWVAWd3"
      }
    },
    {
      "cell_type": "markdown",
      "source": [
        "ques 12  What is method overriding in OOP ?\n",
        "\n",
        "Method overriding is a feature in object-oriented programming (OOP) that allows a subclass to provide a specific implementation of a method that is already defined in its parent class. Essentially, it lets a subclass \"override\" a method of the parent class, allowing it to modify or extend the behavior of that method.\n",
        "\n",
        "Method overriding allows a subclass to provide a new version of a method that was already defined in its parent class.\n",
        "It's a form of runtime polymorphism because the method that gets executed depends on the actual object type.\n",
        "The super() function in Python can be used to call the overridden method from the parent class, allowing you to extend or modify its behavior."
      ],
      "metadata": {
        "id": "MX6HhFzgAWbJ"
      }
    },
    {
      "cell_type": "markdown",
      "source": [
        "ques 13  What is a property decorator in Python ?\n",
        "\n",
        "In Python, the property decorator is a built-in decorator that allows you to define a method as a \"property\" of a class. A property lets you access a method like an attribute, without needing to explicitly call it as a method (i.e., without parentheses). This is useful for encapsulating behavior and providing a controlled way to access or modify instance attributes.\n",
        "\n",
        "property decorator Allows you to define a method that can be accessed like an attribute, without needing parentheses.\n",
        "@property.setter: Used to define a setter method for a property, allowing you to control how an attribute is set.\n",
        "@property with getter and setter: Useful for adding logic when getting or setting values (e.g., validation, transformation).\n",
        "Encapsulation: You can hide implementation details and only expose the interface you want.\n"
      ],
      "metadata": {
        "id": "WaSZ43VpAWYm"
      }
    },
    {
      "cell_type": "markdown",
      "source": [
        "ques 14 Why is polymorphism important in OOP?\n",
        "\n",
        "Polymorphism is one of the fundamental concepts of Object-Oriented Programming (OOP). It refers to the ability of different objects to respond to the same method or operation in a way that is specific to their own class or type and in programming, it allows a single function or method to work with different types of objects.\n",
        "\n",
        "Code Reusability and Flexibility:\n",
        "\n",
        "Polymorphism allows you to write more generic and reusable code. It enables you to treat objects of different types in a uniform way, reducing redundancy and increasing code flexibility.\n",
        "\n",
        "Simplifies Code and Reduces Complexity:\n",
        "\n",
        "Polymorphism reduces the need for complex conditional statements (like if-else or switch-case) to handle different types of objects. Instead, polymorphism allows you to rely on method overriding and dynamic dispatch (runtime binding) to call the appropriate method based on the object type.\n",
        "\n",
        "Easier to Extend and Maintain:\n",
        "\n",
        "Polymorphism makes your code easier to extend. When you introduce new subclasses, polymorphism ensures that existing code continues to work without modification. You can add new behavior to the code with minimal impact on the rest of the system.\n",
        "\n",
        " Improves Readability:\n",
        "\n",
        "Polymorphism allows for more intuitive and readable code. When you can use common methods (defined in a base class) across different object types, your code is cleaner and easier to understand. You don’t need to explicitly specify which type of object you are working with — you just call the method, and the right one is executed.\n",
        "\n",
        "Improves Design Patterns Implementation:\n",
        "\n",
        "Many common design patterns (like Factory, Strategy, and Command) heavily rely on polymorphism. It allows you to design flexible systems where behaviors can be changed or extended at runtime without altering the codebase.\n",
        "\n",
        "Polymorphism is essential in OOP because it provides flexibility, reusability, and simplicity. By allowing objects of different classes to be treated as objects of a common base class, polymorphism reduces the complexity of the code, promotes code reusability, and makes it easier to extend and maintain. It’s a key feature that supports the creation of modular, scalable, and adaptable systems."
      ],
      "metadata": {
        "id": "DaS4BVDwAWVz"
      }
    },
    {
      "cell_type": "markdown",
      "source": [
        "ques 15  What is an abstract class in Python ?\n",
        "\n",
        "In Python, an abstract class is a class that cannot be instantiated on its own and serves as a blueprint for other classes. It is defined using the abc (Abstract Base Class) module. Abstract classes allow you to define methods that must be implemented by subclasses but do not provide their implementation in the abstract class itself. These methods are called abstract methods.\n"
      ],
      "metadata": {
        "id": "wS2x2okZAWTB"
      }
    },
    {
      "cell_type": "markdown",
      "source": [
        "ques 16  What are the advantages of OOP ?\n",
        "\n",
        "some advantages of OOP are:\n",
        "\n",
        "Modularity:\n",
        "\n",
        " You might create a Zoo class and Animal class. Inside the Animal class, you could encapsulate all properties and behaviors of animals (like speak, eat, etc.). Each specific animal can then inherit from Animal and have its own unique behavior (like speak for a Dog or Cat).\n",
        "\n",
        "Reusability:\n",
        "\n",
        " If you later need a Bird class, it could inherit common behaviors from Animal (like eat or sleep) without needing to duplicate the code.\n",
        "\n",
        "Polymorphism:\n",
        "\n",
        "The method speak can be overridden for different types of animals (e.g., Dog.speak() and Cat.speak()) while maintaining a unified interface. This allows you to treat all animals uniformly but still get specific behaviors when needed.\n",
        "\n",
        "Abstraction:\n",
        "\n",
        "You might never need to know the exact details of how a particular animal performs its behavior; you just call the speak method, and the correct behavior happens depending on the type of animal."
      ],
      "metadata": {
        "id": "T9fX6_T5AWQM"
      }
    },
    {
      "cell_type": "markdown",
      "source": [
        "ques 17  What is the difference between a class variable and an instance variable.\n",
        "\n",
        "In Python, class variables and instance variables are both used to store data, but they differ in terms of scope and how they are accessed.\n",
        "\n",
        "class variable :\n",
        "\n",
        " A class variable is a variable that is shared across all instances (objects) of a class. It is defined within the class but outside of any instance methods (i.e., not inside __init__ or other methods).\n",
        "\n",
        " Access:\n",
        "\n",
        "  You can access a class variable using the class name or through an instance, but modifying it through an instance will not change the variable for all instances unless specifically done via the class name.\n",
        "\n",
        " instance variable  :\n",
        "\n",
        "  An instance variable is a variable that is specific to a particular instance of a class. It is typically defined inside the __init__ method, which is called when a new object (instance) is created.\n",
        "\n",
        "  Access:\n",
        "  \n",
        "   You can access an instance variable using self (i.e., self.variable_name), and it is unique for each instance of the class."
      ],
      "metadata": {
        "id": "IPVvrgdPAWNh"
      }
    },
    {
      "cell_type": "markdown",
      "source": [
        "ques 18   What is multiple inheritance in Python?\n",
        "\n",
        "Multiple inheritance in Python refers to the ability of a class to inherit from more than one class. This means that a subclass can inherit attributes and methods from multiple parent classes. Multiple inheritance allows you to combine functionalities from different classes into a single class, which can lead to a more flexible and reusable design.\n",
        "\n"
      ],
      "metadata": {
        "id": "naQwf2rXAWKv"
      }
    },
    {
      "cell_type": "markdown",
      "source": [
        "ques 19  Explain the purpose of ‘’__str__’ and ‘__repr__’ ‘ methods in Python?\n",
        "\n",
        "n Python, both the __str__ and __repr__ methods are special methods that deal with how an object is represented as a string, but they serve slightly different purposes.\n",
        "\n",
        "The __str__ method :\n",
        "\n",
        " this method is meant to return a human-readable or informal string representation of the object. When you use print() or str() on an object, Python calls the __str__ method to get the string to display.\n",
        "\n",
        " The __repr__ method :\n",
        "\n",
        " this method is intended to return a formal string representation of the object that can ideally be used to recreate the object (or at least provide an unambiguous representation of it). The goal of __repr__ is to provide a more developer-friendly or debugging-oriented string representation."
      ],
      "metadata": {
        "id": "RPcpnSP2CqiM"
      }
    },
    {
      "cell_type": "markdown",
      "source": [
        "ques 20  What is the significance of the ‘super()’ function in Python?\n",
        "\n",
        "The super() function in Python is used to call methods from a parent class (or superclass) in a child class (or subclass). It provides a way to access methods and properties from the parent class, allowing you to extend or modify the behavior of inherited methods, without having to explicitly reference the parent class name.\n",
        "\n",
        "\n",
        "importance of super():\n",
        "\n",
        "Avoids Hardcoding:\n",
        "\n",
        " Instead of explicitly referencing the parent class name (e.g., A.speak(self)), super() allows Python to handle the correct class in the hierarchy, making the code more flexible and maintainable.\n",
        "\n",
        "Handles Multiple Inheritance Correctly:\n",
        "\n",
        " In multiple inheritance, super() ensures that the MRO is respected and methods are called in the correct order, without explicitly specifying class names.\n",
        "\n",
        " super() is used to call methods from parent classes in a child class, providing a clean and flexible way to extend or modify inherited behavior.\n",
        "In single inheritance, super() simply calls the parent class method.\n",
        "In multiple inheritance, super() ensures that the method resolution order (MRO) is followed, avoiding ambiguities and ensuring the correct method is called from the appropriate parent class.\n"
      ],
      "metadata": {
        "id": "6ewjVbvjD-NI"
      }
    },
    {
      "cell_type": "markdown",
      "source": [
        "ques 21 :  What is the significance of the __del__ method in Python ?\n",
        "\n",
        "The __del__ method in Python is a destructor method that is called when an object is about to be destroyed or garbage collected. It is part of the object's life cycle and is used to define any cleanup actions that need to be performed before the object is removed from memory.\n",
        "\n",
        "The primary purpose of __del__ is to clean up resources that an object may be holding onto, such as file handles, network connections, or database connections.\n",
        "\n",
        "This method is called automatically when an object is no longer needed (i.e., when its reference count reaches zero or when the program exits).\n",
        "\n",
        "It's like a finalizer for an object, allowing the programmer to specify behavior that should occur before the object is completely destroyed.\n",
        "\n"
      ],
      "metadata": {
        "id": "mF0u_1yzE2MW"
      }
    },
    {
      "cell_type": "markdown",
      "source": [
        "ques 22 :  What is the difference between @staticmethod and @classmethod in Python ?\n",
        "\n",
        " @staticmethod:\n",
        "\n",
        "A staticmethod is a method that belongs to the class rather than an instance of the class. It does not take a reference to the instance (self) or the class (cls) as its first argument. This means it behaves like a regular function but lives within the class's namespace.\n",
        "\n",
        "@staticmethod is for methods that don’t need access to the class or instance, and are usually utility functions.\n",
        "\n",
        "\n",
        "@classmethod:\n",
        "\n",
        "A classmethod is a method that is bound to the class itself, not an instance. The first argument passed to a class method is cls, which refers to the class, and not the instance (self). Class methods can access and modify class-level attributes, but they cannot modify instance-specific data.\n",
        "\n",
        "@classmethod is for methods that need access to the class, often used for factory methods or manipulating class-level data."
      ],
      "metadata": {
        "id": "SCGMVpzeGxlk"
      }
    },
    {
      "cell_type": "markdown",
      "source": [
        "ques 23  How does polymorphism work in Python with inheritance ?\n",
        "\n",
        "Polymorphism in Python allows objects of different classes to be treated as objects of a common base class. It’s a core concept in object-oriented programming (OOP) that allows for method overriding and method overloading (though Python doesn’t technically support method overloading the way some other languages do). Polymorphism provides a way to call the same method on objects of different classes, but each class can implement the method in its own way.\n",
        "\n",
        "Polymorphism allows different classes to define methods with the same name but different behavior.\n",
        "\n",
        "It’s primarily implemented through method overriding in subclasses.\n",
        "Python’s dynamic typing and method resolution (based on the runtime object type) enable polymorphism.\n",
        "\n",
        "Duck typing in Python allows you to use objects with the same interface, even if they don't share a common parent class.\n",
        "\n",
        "Inheritance allows a class (child class) to inherit attributes and methods from another class (parent class).\n",
        "\n",
        "Method overriding allows a child class to provide a new definition for a method that was already defined in the parent class.\n",
        "\n",
        "The method that is called is determined by the runtime type of the object, not the type of the reference used to call it. This is called dynamic dispatch."
      ],
      "metadata": {
        "id": "Ht_0nUJiHdsY"
      }
    },
    {
      "cell_type": "markdown",
      "source": [
        "ques 24 What is method chaining in Python OOP ?\n",
        "\n",
        "Method chaining in Python refers to the technique of calling multiple methods on the same object in a single line of code. This is achieved by having each method return the object itself (self) so that the next method call can be invoked on the same object.\n",
        "\n",
        "Method Chaining allows you to call multiple methods on the same object in one line by returning self in each method.\n",
        "\n",
        "It's commonly used for making code more readable, concise, and fluent, especially when building or configuring objects.\n",
        "\n",
        "You should be mindful of error handling, as chaining long method calls can make debugging harder and may introduce challenges in maintaining code clarity."
      ],
      "metadata": {
        "id": "-AUX9YaZI08D"
      }
    },
    {
      "cell_type": "markdown",
      "source": [
        "ques 25 What is the purpose of the __call__ method in Python?\n",
        "\n",
        "In Python, the __call__ method allows an instance of a class to be called like a function. When you implement the __call__ method in a class, you can use the class instances as if they were functions, invoking them directly with parentheses and passing arguments to them.\n",
        "\n",
        "The __call__ method is part of Python's special methods (also known as \"magic methods\" or \"dunder methods\" because they start and end with double underscores). By defining __call__, you are enabling an instance of a class to behave like a function. This can be useful in a variety of situations, such as when you want your class to perform some logic on each call without explicitly defining a method for each function call."
      ],
      "metadata": {
        "id": "bZjDLrNvJQPI"
      }
    },
    {
      "cell_type": "markdown",
      "source": [
        "# **pratical question : **"
      ],
      "metadata": {
        "id": "locCu1mNJv_s"
      }
    },
    {
      "cell_type": "code",
      "execution_count": null,
      "metadata": {
        "id": "MLiA1X_6ARjo",
        "colab": {
          "base_uri": "https://localhost:8080/"
        },
        "outputId": "7f9acd81-9b7b-4cd4-8485-b20efd58fe82"
      },
      "outputs": [
        {
          "output_type": "stream",
          "name": "stdout",
          "text": [
            "animals make sound\n",
            "bark\n"
          ]
        }
      ],
      "source": [
        "#ques 1 . Create a parent class Animal with a method speak() that prints a generic message. Create a child class Dog that overrides the speak() method to print \"Bark!\"\n",
        "\n",
        "class animal ():\n",
        "  def speak(self):\n",
        "    print(\"animals make sound\")\n",
        "\n",
        "class dog(animal):\n",
        "  def speak(self):\n",
        "    print(\"bark\")\n",
        "\n",
        "Animal = animal()\n",
        "Dog = dog()\n",
        "Animal.speak()\n",
        "Dog.speak()"
      ]
    },
    {
      "cell_type": "code",
      "source": [
        "#ques 2 Write a program to create an abstract class Shape with a method area(). Derive classes Circle and Rectangle from it and implement the area() method in both\n",
        "\n",
        "from abc import ABC, abstractmethod\n",
        "\n",
        "class Shape(ABC):\n",
        "    @abstractmethod\n",
        "    def area(self):\n",
        "        pass\n",
        "class Circle(Shape):\n",
        "    def __init__(self, radius):\n",
        "        self.radius = radius\n",
        "\n",
        "    def area(self):\n",
        "        return 3.14 * (self.radius ** 2)\n",
        "class Rectangle(Shape):\n",
        "    def __init__(self, width, height):\n",
        "        self.width = width\n",
        "        self.height = height\n",
        "\n",
        "    def area(self):\n",
        "        return self.width * self.height\n",
        "circle = Circle(5)\n",
        "rectangle = Rectangle(4, 6)\n",
        "\n",
        "print(f\"Area of Circle: {circle.area()}\")\n",
        "print(f\"Area of Rectangle: {rectangle.area()}\")\n"
      ],
      "metadata": {
        "colab": {
          "base_uri": "https://localhost:8080/"
        },
        "id": "BjYKiRNHK95Y",
        "outputId": "cb367296-fe94-4767-fa8a-3e25329f89f8"
      },
      "execution_count": null,
      "outputs": [
        {
          "output_type": "stream",
          "name": "stdout",
          "text": [
            "Area of Circle: 78.5\n",
            "Area of Rectangle: 24\n"
          ]
        }
      ]
    },
    {
      "cell_type": "code",
      "source": [
        "#ques 3  Implement a multi-level inheritance scenario where a class Vehicle has an attribute type. Derive a class Car and further derive a class ElectricCar that adds a battery attribute.\n",
        "\n",
        "class Vehicle:\n",
        "    def __init__(self, type_of_vehicle):\n",
        "        self.type = type_of_vehicle\n",
        "\n",
        "    def display_info(self):\n",
        "        print(f\"Vehicle Type: {self.type}\")\n",
        "class Car(Vehicle):\n",
        "    def __init__(self, type_of_vehicle, brand):\n",
        "        super().__init__(type_of_vehicle)\n",
        "        self.brand = brand\n",
        "\n",
        "    def display_info(self):\n",
        "        super().display_info()\n",
        "        print(f\"Car Brand: {self.brand}\")\n",
        "class ElectricCar(Car):\n",
        "    def __init__(self, type_of_vehicle, brand, battery_capacity):\n",
        "        super().__init__(type_of_vehicle, brand)\n",
        "        self.battery_capacity = battery_capacity\n",
        "\n",
        "    def display_info(self):\n",
        "        super().display_info()\n",
        "        print(f\"Battery Capacity: {self.battery_capacity} kWh\")\n",
        "vehicle = Vehicle(\"General Vehicle\")\n",
        "car = Car(\"Car\", \"Toyota\")\n",
        "electric_car = ElectricCar(\"Electric Car\", \"Tesla\", 75)\n",
        "print(\"Vehicle Info:\")\n",
        "vehicle.display_info()\n",
        "\n",
        "print(\"\\nCar Info:\")\n",
        "car.display_info()\n",
        "\n",
        "print(\"\\nElectric Car Info:\")\n",
        "electric_car.display_info()\n"
      ],
      "metadata": {
        "colab": {
          "base_uri": "https://localhost:8080/"
        },
        "id": "g40datcaL6XZ",
        "outputId": "c303d9c4-2089-420f-d479-f66be5c59de9"
      },
      "execution_count": null,
      "outputs": [
        {
          "output_type": "stream",
          "name": "stdout",
          "text": [
            "Vehicle Info:\n",
            "Vehicle Type: General Vehicle\n",
            "\n",
            "Car Info:\n",
            "Vehicle Type: Car\n",
            "Car Brand: Toyota\n",
            "\n",
            "Electric Car Info:\n",
            "Vehicle Type: Electric Car\n",
            "Car Brand: Tesla\n",
            "Battery Capacity: 75 kWh\n"
          ]
        }
      ]
    },
    {
      "cell_type": "code",
      "source": [
        "# ques 4  Implement a multi-level inheritance scenario where a class Vehicle has an attribute type. Derive a class Car and further derive a class ElectricCar that adds a battery attribute\n",
        "\n",
        "\n",
        "class Vehicle:\n",
        "    def __init__(self, type):\n",
        "        self.type = type\n",
        "\n",
        "    def display_info(self):\n",
        "        return f\"Vehicle Type: {self.type}\"\n",
        "class Car(Vehicle):\n",
        "    def __init__(self, type, make, model):\n",
        "        super().__init__(type)\n",
        "        self.make = make\n",
        "        self.model = model\n",
        "\n",
        "    def display_info(self):\n",
        "        vehicle_info = super().display_info()\n",
        "        return f\"{vehicle_info}\\nCar Make: {self.make}\\nCar Model: {self.model}\"\n",
        "class ElectricCar(Car):\n",
        "    def __init__(self, type, make, model, battery_capacity):\n",
        "        super().__init__(type, make, model)\n",
        "        self.battery_capacity = battery_capacity\n",
        "\n",
        "    def display_info(self):\n",
        "        car_info = super().display_info()\n",
        "        return f\"{car_info}\\nBattery Capacity: {self.battery_capacity} kWh\"\n",
        "\n",
        "electric_car = ElectricCar(\"Electric Vehicle\", \"Tesla\", \"Model S\", 100)\n",
        "print(electric_car.display_info())\n"
      ],
      "metadata": {
        "colab": {
          "base_uri": "https://localhost:8080/"
        },
        "id": "NhpsB12hDvLE",
        "outputId": "110926e7-0be8-40ce-bbda-ef9b7db019e5"
      },
      "execution_count": null,
      "outputs": [
        {
          "output_type": "stream",
          "name": "stdout",
          "text": [
            "Vehicle Type: Electric Vehicle\n",
            "Car Make: Tesla\n",
            "Car Model: Model S\n",
            "Battery Capacity: 100 kWh\n"
          ]
        }
      ]
    },
    {
      "cell_type": "code",
      "source": [
        "#ques 5  Write a program to demonstrate encapsulation by creating a class BankAccount with private attributes balance and methods to deposit, withdraw, and check balance\n",
        "\n",
        "class BankAccount:\n",
        "    def __init__(self, owner, initial_balance=0):\n",
        "        self.owner = owner\n",
        "        self.__balance = initial_balance\n",
        "    def deposit(self, amount):\n",
        "        if amount > 0:\n",
        "            self.__balance += amount\n",
        "            print(f\"Deposited: ${amount}\")\n",
        "        else:\n",
        "            print(\"Deposit amount must be positive.\")\n",
        "    def withdraw(self, amount):\n",
        "        if amount <= 0:\n",
        "            print(\"Withdrawal amount must be positive.\")\n",
        "        elif amount > self.__balance:\n",
        "            print(\"Insufficient funds.\")\n",
        "        else:\n",
        "            self.__balance -= amount\n",
        "            print(f\"Withdrew: ${amount}\")\n",
        "    def check_balance(self):\n",
        "        return f\"Current balance: ${self.__balance}\"\n",
        "    def get_balance(self):\n",
        "        return self.__balance\n",
        "    def set_balance(self, amount):\n",
        "        if amount >= 0:\n",
        "            self.__balance = amount\n",
        "        else:\n",
        "            print(\"Balance cannot be negative.\")\n",
        "account = BankAccount(\"John Doe\", 1000)\n",
        "\n",
        "print(account.check_balance())\n",
        "account.deposit(500)\n",
        "account.withdraw(200)\n",
        "print(account.check_balance())\n",
        "print(f\"Balance via getter: ${account.get_balance()}\")\n",
        "account.set_balance(500)\n",
        "print(account.check_balance())\n"
      ],
      "metadata": {
        "colab": {
          "base_uri": "https://localhost:8080/"
        },
        "id": "CyaaADyHGNPF",
        "outputId": "4985eec5-5de1-4753-8113-38ebf2aa32de"
      },
      "execution_count": null,
      "outputs": [
        {
          "output_type": "stream",
          "name": "stdout",
          "text": [
            "Current balance: $1000\n",
            "Deposited: $500\n",
            "Withdrew: $200\n",
            "Current balance: $1300\n",
            "Balance via getter: $1300\n",
            "Current balance: $500\n"
          ]
        }
      ]
    },
    {
      "cell_type": "code",
      "source": [
        "\n",
        "\n",
        "# ques 6  Demonstrate runtime polymorphism using a method play() in a base class Instrument. Derive classes Guitar and Piano that implement their own version of play().\n",
        "\n",
        "class Instrument:\n",
        "    def play(self):\n",
        "        pass\n",
        "class Guitar(Instrument):\n",
        "    def play(self):\n",
        "        return \"Guitar is playing.\"\n",
        "class Piano(Instrument):\n",
        "    def play(self):\n",
        "        return \"Piano is playing.\"\n",
        "\n",
        "instrument1 = Guitar()\n",
        "instrument2 = Piano()\n",
        "print(instrument1.play())\n",
        "print(instrument2.play())"
      ],
      "metadata": {
        "colab": {
          "base_uri": "https://localhost:8080/"
        },
        "id": "7dYP0BYFJ6Dh",
        "outputId": "d5a5b52d-de79-49c8-fb93-4918048d97f0"
      },
      "execution_count": null,
      "outputs": [
        {
          "output_type": "stream",
          "name": "stdout",
          "text": [
            "Guitar is playing.\n",
            "Piano is playing.\n"
          ]
        }
      ]
    },
    {
      "cell_type": "code",
      "source": [
        "#ques 7  Create a class MathOperations with a class method add_numbers() to add two numbers and a static method subtract_numbers() to subtract two numbers.\n",
        "class MathOperations:\n",
        "    @classmethod\n",
        "    def add_numbers(cls, num1, num2):\n",
        "        return num1 + num2\n",
        "    @staticmethod\n",
        "    def subtract_numbers(num1, num2):\n",
        "        return num1 - num2\n",
        "result_addition = MathOperations.add_numbers(10, 5)\n",
        "print(f\"Addition Result: {result_addition}\")\n",
        "result_subtraction = MathOperations.subtract_numbers(10, 5)\n",
        "print(f\"Subtraction Result: {result_subtraction}\")"
      ],
      "metadata": {
        "colab": {
          "base_uri": "https://localhost:8080/"
        },
        "id": "jhii6CZILMRD",
        "outputId": "7f0f6d3c-a111-481c-a68d-35e41fde4523"
      },
      "execution_count": null,
      "outputs": [
        {
          "output_type": "stream",
          "name": "stdout",
          "text": [
            "Addition Result: 15\n",
            "Subtraction Result: 5\n"
          ]
        }
      ]
    },
    {
      "cell_type": "code",
      "source": [
        "#ques 8  Implement a class Person with a class method to count the total number of persons created.\n",
        "\n",
        "class Person:\n",
        "    total_persons = 0\n",
        "\n",
        "    def __init__(self, name, age):\n",
        "        self.name = name\n",
        "        self.age = age\n",
        "        Person.total_persons += 1\n",
        "    @classmethod\n",
        "    def get_total_persons(cls):\n",
        "        return cls.total_persons\n",
        "person1 = Person(\"Alice\", 30)\n",
        "person2 = Person(\"Bob\", 25)\n",
        "person3 = Person(\"Charlie\", 35)\n",
        "print(f\"Total number of persons created: {Person.get_total_persons()}\")\n"
      ],
      "metadata": {
        "colab": {
          "base_uri": "https://localhost:8080/"
        },
        "id": "eWpigvqHLoe0",
        "outputId": "75b002b4-c0c2-4e78-b206-9b1ef86342df"
      },
      "execution_count": null,
      "outputs": [
        {
          "output_type": "stream",
          "name": "stdout",
          "text": [
            "Total number of persons created: 3\n"
          ]
        }
      ]
    },
    {
      "cell_type": "code",
      "source": [
        "#ques 9 . Write a class Fraction with attributes numerator and denominator. Override the str method to display the fraction as \"numerator/denominator\"\n",
        "\n",
        "class Fraction:\n",
        "    def __init__(self, numerator, denominator):\n",
        "        self.numerator = numerator\n",
        "        self.denominator = denominator\n",
        "    def __str__(self):\n",
        "        return f\"{self.numerator}/{self.denominator}\"\n",
        "\n",
        "fraction1 = Fraction(3, 4)\n",
        "fraction2 = Fraction(5, 6)\n",
        "print(f\"Fraction 1: {fraction1}\")\n",
        "print(f\"Fraction 2: {fraction2}\")\n"
      ],
      "metadata": {
        "colab": {
          "base_uri": "https://localhost:8080/"
        },
        "id": "xDwuZG9NMOI8",
        "outputId": "fffbfa0e-cfa1-4b3c-f115-e79c01abe29c"
      },
      "execution_count": null,
      "outputs": [
        {
          "output_type": "stream",
          "name": "stdout",
          "text": [
            "Fraction 1: 3/4\n",
            "Fraction 2: 5/6\n"
          ]
        }
      ]
    },
    {
      "cell_type": "code",
      "source": [
        "#ques 10  Demonstrate operator overloading by creating a class Vector and overriding the add method to add two vectors.\n",
        "class Vector:\n",
        "    def __init__(self, x, y):\n",
        "        self.x = x\n",
        "        self.y = y\n",
        "    def __add__(self, other):\n",
        "        if isinstance(other, Vector):\n",
        "            return Vector(self.x + other.x, self.y + other.y)\n",
        "        return NotImplemented\n",
        "    def __str__(self):\n",
        "        return f\"({self.x}, {self.y})\"\n",
        "vector1 = Vector(2, 3)\n",
        "vector2 = Vector(4, 5)\n",
        "result = vector1 + vector2\n",
        "print(f\"Result of adding vector1 and vector2: {result}\")\n"
      ],
      "metadata": {
        "colab": {
          "base_uri": "https://localhost:8080/"
        },
        "id": "8Yjv0v1tNBK8",
        "outputId": "897a4701-2bc7-420e-d93e-491ffb40f11e"
      },
      "execution_count": null,
      "outputs": [
        {
          "output_type": "stream",
          "name": "stdout",
          "text": [
            "Result of adding vector1 and vector2: (6, 8)\n"
          ]
        }
      ]
    },
    {
      "cell_type": "code",
      "source": [
        "# ques 11  Create a class Person with attributes name and age. Add a method greet() that prints \"Hello, my name is {name} and I am {age} years old.\"\n",
        "\n",
        "class Person:\n",
        "    def __init__(self, name, age):\n",
        "        self.name = name\n",
        "        self.age = age\n",
        "    def greet(self):\n",
        "        print(f\"Hello, my name is {self.name} and I am {self.age} years old.\")\n",
        "person1 = Person(\"Rajat\", 24)\n",
        "person1.greet()\n",
        "person2 = Person(\"kritika\", 28)\n",
        "person2.greet()\n"
      ],
      "metadata": {
        "colab": {
          "base_uri": "https://localhost:8080/"
        },
        "id": "-Y_E2XLLNlJ9",
        "outputId": "5aa99d09-1b05-4ff3-95b6-0c82400150f3"
      },
      "execution_count": null,
      "outputs": [
        {
          "output_type": "stream",
          "name": "stdout",
          "text": [
            "Hello, my name is Rajat and I am 24 years old.\n",
            "Hello, my name is kritika and I am 28 years old.\n"
          ]
        }
      ]
    },
    {
      "cell_type": "code",
      "source": [
        "#ques 12  Implement a class Student with attributes name and grades. Create a method average_grade() to compute the average of the grades\n",
        "\n",
        "class Student:\n",
        "    def __init__(self, name, grades):\n",
        "        self.name = name\n",
        "        self.grades = grades\n",
        "    def average_grade(self):\n",
        "        if len(self.grades) > 0:\n",
        "            return sum(self.grades) / len(self.grades)\n",
        "        else:\n",
        "            return 0\n",
        "student1 = Student(\"Rajat\", [86, 92, 78, 88])\n",
        "print(f\"{student1.name}'s average grade: {student1.average_grade()}\")\n",
        "student2 = Student(\"Kritika\", [86, 88, 95,78])\n",
        "print(f\"{student2.name}'s average grade: {student2.average_grade()}\")\n"
      ],
      "metadata": {
        "colab": {
          "base_uri": "https://localhost:8080/"
        },
        "id": "6yhNZ-9COMP4",
        "outputId": "04c3839c-506f-4e17-cb8d-ab5fefed3967"
      },
      "execution_count": null,
      "outputs": [
        {
          "output_type": "stream",
          "name": "stdout",
          "text": [
            "Rajat's average grade: 86.0\n",
            "Kritika's average grade: 86.75\n"
          ]
        }
      ]
    },
    {
      "cell_type": "code",
      "source": [
        "#ques 13 Create a class Rectangle with methods set_dimensions() to set the dimensions and area() to calculate the area.\n",
        "class Rectangle:\n",
        "    def __init__(self):\n",
        "        self.length = 0\n",
        "        self.width = 0\n",
        "    def set_dimensions(self, length, width):\n",
        "        self.length = length\n",
        "        self.width = width\n",
        "    def area(self):\n",
        "        return self.length * self.width\n",
        "rectangle1 = Rectangle()\n",
        "rectangle1.set_dimensions(5, 3)\n",
        "print(f\"Area of rectangle1: {rectangle1.area()}\")\n",
        "\n",
        "rectangle2 = Rectangle()\n",
        "rectangle2.set_dimensions(7, 4)\n",
        "print(f\"Area of rectangle2: {rectangle2.area()}\")\n"
      ],
      "metadata": {
        "colab": {
          "base_uri": "https://localhost:8080/"
        },
        "id": "4NafW8bsQxPZ",
        "outputId": "64029bff-8519-4834-8d03-e8ccc3e2bbe1"
      },
      "execution_count": null,
      "outputs": [
        {
          "output_type": "stream",
          "name": "stdout",
          "text": [
            "Area of rectangle1: 15\n",
            "Area of rectangle2: 28\n"
          ]
        }
      ]
    },
    {
      "cell_type": "code",
      "source": [
        "\n",
        "#ques 14  Create a class Employee with a method calculate_salary() that computes the salary based on hours worked and hourly rate. Create a derived class Manager that adds a bonus to the salary\n",
        "class Employee:\n",
        "    def __init__(self, name, hours_worked, hourly_rate):\n",
        "        self.name = name\n",
        "        self.hours_worked = hours_worked\n",
        "        self.hourly_rate = hourly_rate\n",
        "    def calculate_salary(self):\n",
        "        return self.hours_worked * self.hourly_rate\n",
        "class Manager(Employee):\n",
        "    def __init__(self, name, hours_worked, hourly_rate, bonus):\n",
        "        super().__init__(name, hours_worked, hourly_rate)\n",
        "        self.bonus = bonus\n",
        "    def calculate_salary(self):\n",
        "        base_salary = super().calculate_salary()\n",
        "        return base_salary + self.bonus\n",
        "employee = Employee(\"Riya\", 160, 20)\n",
        "print(f\"{employee.name}'s salary: ${employee.calculate_salary()}\")\n",
        "manager = Manager(\"A\", 160, 30, 500)\n",
        "print(f\"{manager.name}'s salary (including bonus): ${manager.calculate_salary()}\")\n"
      ],
      "metadata": {
        "colab": {
          "base_uri": "https://localhost:8080/"
        },
        "id": "gPwQKGzeR5w5",
        "outputId": "2c4e1f93-6d0c-4cd8-aa0c-48a54750afbe"
      },
      "execution_count": 2,
      "outputs": [
        {
          "output_type": "stream",
          "name": "stdout",
          "text": [
            "Riya's salary: $3200\n",
            "A's salary (including bonus): $5300\n"
          ]
        }
      ]
    },
    {
      "cell_type": "code",
      "source": [
        "#ques 15 . Create a class Product with attributes name, price, and quantity. Implement a method total_price() that calculates the total price of the product.\n",
        "\n",
        "class Product:\n",
        "    def __init__(self, name, price, quantity):\n",
        "        self.name = name\n",
        "        self.price = price\n",
        "        self.quantity = quantity\n",
        "\n",
        "    def total_price(self):\n",
        "        return self.price * self.quantity\n",
        "\n",
        "\n",
        "product1 = Product(\"TV\", 15000, 5)\n",
        "print(f\"Total price for {product1.name}: RS{product1.total_price()}\")\n"
      ],
      "metadata": {
        "colab": {
          "base_uri": "https://localhost:8080/"
        },
        "id": "uJZzkdeD-hhE",
        "outputId": "61156317-5aa6-49ee-dbfb-4eceed3b502a"
      },
      "execution_count": 5,
      "outputs": [
        {
          "output_type": "stream",
          "name": "stdout",
          "text": [
            "Total price for TV: RS75000\n"
          ]
        }
      ]
    },
    {
      "cell_type": "code",
      "source": [
        "#ques 16  Create a class Animal with an abstract method sound(). Create two derived classes Cow and Sheep that implement the sound() method.\n",
        "\n",
        "from abc import ABC, abstractmethod\n",
        "class Animal(ABC):\n",
        "    @abstractmethod\n",
        "    def sound(self):\n",
        "        pass\n",
        "class Cow(Animal):\n",
        "    def sound(self):\n",
        "        return \"Moo\"\n",
        "class Sheep(Animal):\n",
        "    def sound(self):\n",
        "        return \"Baa\"\n",
        "cow = Cow()\n",
        "sheep = Sheep()\n",
        "\n",
        "print(f\"The cow says: {cow.sound()}\")\n",
        "print(f\"The sheep says: {sheep.sound()}\")\n"
      ],
      "metadata": {
        "colab": {
          "base_uri": "https://localhost:8080/"
        },
        "id": "vPTzD9Aa_reB",
        "outputId": "bbe0d8f8-5a61-411e-ce91-651cf9d60c6f"
      },
      "execution_count": 6,
      "outputs": [
        {
          "output_type": "stream",
          "name": "stdout",
          "text": [
            "The cow says: Moo\n",
            "The sheep says: Baa\n"
          ]
        }
      ]
    },
    {
      "cell_type": "code",
      "source": [
        "#ques 17 Create a class Book with attributes title, author, and year_published. Add a method get_book_info() that returns a formatted string with the book's details.\n",
        "\n",
        "class Book:\n",
        "    def __init__(self, title, author, year_published):\n",
        "        self.title = title\n",
        "        self.author = author\n",
        "        self.year_published = year_published\n",
        "\n",
        "    def get_book_info(self):\n",
        "        return f\"'{self.title}' by {self.author}, published in {self.year_published}\"\n",
        "book1 = Book(\"The kite runner \", \"khaled Hosseini\", 2003)\n",
        "book2 = Book(\"Atomic habits\", \"James Clear\", 2018)\n",
        "\n",
        "print(book1.get_book_info())\n",
        "print(book2.get_book_info())\n"
      ],
      "metadata": {
        "colab": {
          "base_uri": "https://localhost:8080/"
        },
        "id": "T2DWuxG1Aix1",
        "outputId": "2f9c030d-6785-41f2-c36d-1171d19e545b"
      },
      "execution_count": 8,
      "outputs": [
        {
          "output_type": "stream",
          "name": "stdout",
          "text": [
            "'The kite runner ' by khaled Hosseini, published in 2003\n",
            "'Atomic habits' by James Clear, published in 2018\n"
          ]
        }
      ]
    },
    {
      "cell_type": "code",
      "source": [
        "# ques 18 Create a class House with attributes address and price. Create a derived class Mansion that adds an attribute number_of_rooms.\n",
        "\n",
        "class House:\n",
        "    def __init__(self, address, price):\n",
        "        self.address = address\n",
        "        self.price = price\n",
        "\n",
        "    def get_house_info(self):\n",
        "        return f\"House: {self.address}, Price: {self.price}\"\n",
        "class mansion(House):\n",
        "    def __init__(self, address, price, number_of_rooms):\n",
        "        super().__init__(address, price)\n",
        "        self.number_of_rooms = number_of_rooms\n",
        "\n",
        "    def get_mansion_info(self):\n",
        "        return f\"{self.get_house_info()}, Number of Rooms: {self.number_of_rooms}\"\n",
        "\n",
        "house1= House(\"1036 central delhi\" , 650000)\n",
        "mansion1 = mansion(\"708 south extension \", 10000000, 3)\n",
        "\n",
        "print(house1.get_house_info())\n",
        "print(mansion1.get_mansion_info())"
      ],
      "metadata": {
        "colab": {
          "base_uri": "https://localhost:8080/"
        },
        "id": "H1CGNr90Bxru",
        "outputId": "9c2e8d40-5f7d-4509-e910-f7a19689f47a"
      },
      "execution_count": 12,
      "outputs": [
        {
          "output_type": "stream",
          "name": "stdout",
          "text": [
            "House: 1036 central delhi, Price: 650000\n",
            "House: 708 south extension , Price: 10000000, Number of Rooms: 3\n"
          ]
        }
      ]
    }
  ]
}